{
 "cells": [
  {
   "cell_type": "markdown",
   "metadata": {},
   "source": [
    "# Applied Data Science Capstone: a Comparison Between Financial Centres\n",
    "This notebook contains the exercises, information and scripts of the *Applied Data Science Capstone Project*."
   ]
  },
  {
   "cell_type": "markdown",
   "metadata": {},
   "source": [
    "## Important Links\n",
    "1. Git management: https://medium.com/@aklson_DS/how-to-properly-setup-your-github-repository-windows-version-ea596b398b"
   ]
  },
  {
   "cell_type": "markdown",
   "metadata": {},
   "source": [
    "## Business Problem\n",
    "Thanks to globalization and the evolution of communication technologies the financial markets are very interconected. This opens the posibility for financiers around the world to search a new cities to live in, according to the characteristics and facilities of each city. One important characteristic is the types of venues found in each city. That is why in this exercise I will compare the top 20 financial centres of the world according to their types of venues, to determine the different types of financial center cities. "
   ]
  },
  {
   "cell_type": "markdown",
   "metadata": {},
   "source": [
    "## Data\n",
    "The data that will be used for this proyect is:\n",
    "1. The ranking of the top financial centres cities ranked according to the Global Financial Centres Index found in: https://en.wikipedia.org/wiki/Global_Financial_Centres_Index\n",
    "2. The database of cities and coordinates found in: https://simplemaps.com/data/world-cities\n",
    "3. The API of foursquare for determine the most frequent types of venues found in each city. \n",
    "\n",
    "The first step is to read the data from the Wikipedia page, and get the top 20 financial centres. Then, combine the coordinates database with the top 20 cities database, yielding a dataset of the top 20 financial centres with their correspoding location. Then, I'll use the foursquare API to get the venues and types of venues found in each city. With this information a dataset of the frequency of the different types of venues for each city will be made, which will be the input for the classification process. "
   ]
  },
  {
   "cell_type": "code",
   "execution_count": null,
   "metadata": {},
   "outputs": [],
   "source": []
  }
 ],
 "metadata": {
  "kernelspec": {
   "display_name": "Python 3",
   "language": "python",
   "name": "python3"
  },
  "language_info": {
   "codemirror_mode": {
    "name": "ipython",
    "version": 3
   },
   "file_extension": ".py",
   "mimetype": "text/x-python",
   "name": "python",
   "nbconvert_exporter": "python",
   "pygments_lexer": "ipython3",
   "version": "3.7.3"
  }
 },
 "nbformat": 4,
 "nbformat_minor": 2
}
